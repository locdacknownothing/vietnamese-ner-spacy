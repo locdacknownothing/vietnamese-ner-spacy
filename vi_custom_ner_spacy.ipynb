{
 "cells": [
  {
   "cell_type": "markdown",
   "id": "6798795f",
   "metadata": {
    "papermill": {
     "duration": 0.006991,
     "end_time": "2024-09-12T07:32:31.822548",
     "exception": false,
     "start_time": "2024-09-12T07:32:31.815557",
     "status": "completed"
    },
    "tags": []
   },
   "source": [
    "## Install lirabries"
   ]
  },
  {
   "cell_type": "code",
   "execution_count": 1,
   "id": "1aaa3bf0",
   "metadata": {
    "execution": {
     "iopub.execute_input": "2024-09-12T07:32:31.837468Z",
     "iopub.status.busy": "2024-09-12T07:32:31.837094Z",
     "iopub.status.idle": "2024-09-12T07:32:59.106548Z",
     "shell.execute_reply": "2024-09-12T07:32:59.105487Z"
    },
    "papermill": {
     "duration": 27.27991,
     "end_time": "2024-09-12T07:32:59.108967",
     "exception": false,
     "start_time": "2024-09-12T07:32:31.829057",
     "status": "completed"
    },
    "tags": []
   },
   "outputs": [],
   "source": [
    "! pip install spacy spacy-transformers pyvi --quiet"
   ]
  },
  {
   "cell_type": "code",
   "execution_count": 2,
   "id": "c668c46d",
   "metadata": {
    "execution": {
     "iopub.execute_input": "2024-09-12T07:32:59.122955Z",
     "iopub.status.busy": "2024-09-12T07:32:59.122591Z",
     "iopub.status.idle": "2024-09-12T07:33:02.872520Z",
     "shell.execute_reply": "2024-09-12T07:33:02.871498Z"
    },
    "papermill": {
     "duration": 3.759473,
     "end_time": "2024-09-12T07:33:02.874750",
     "exception": false,
     "start_time": "2024-09-12T07:32:59.115277",
     "status": "completed"
    },
    "tags": []
   },
   "outputs": [
    {
     "name": "stdout",
     "output_type": "stream",
     "text": [
      "en-core-web-lg @ https://github.com/explosion/spacy-models/releases/download/en_core_web_lg-3.7.1/en_core_web_lg-3.7.1-py3-none-any.whl#sha256=ab70aeb6172cde82508f7739f35ebc9918a3d07debeed637403c8f794ba3d3dc\r\n",
      "en-core-web-sm @ https://github.com/explosion/spacy-models/releases/download/en_core_web_sm-3.7.1/en_core_web_sm-3.7.1-py3-none-any.whl#sha256=86cc141f63942d4b2c5fcee06630fd6f904788d2f0ab005cce45aadb8fb73889\r\n",
      "spacy @ file:///home/conda/feedstock_root/build_artifacts/spacy_1722252006613/work\r\n",
      "spacy-alignments==0.9.1\r\n",
      "spacy-legacy @ file:///home/conda/feedstock_root/build_artifacts/spacy-legacy_1674550301837/work\r\n",
      "spacy-loggers @ file:///home/conda/feedstock_root/build_artifacts/spacy-loggers_1694527114282/work\r\n",
      "spacy-transformers==1.3.5\r\n"
     ]
    }
   ],
   "source": [
    "! pip freeze | grep spacy > req_spacy.txt\n",
    "! cat req_spacy.txt"
   ]
  },
  {
   "cell_type": "code",
   "execution_count": 3,
   "id": "b1aae0ac",
   "metadata": {
    "execution": {
     "iopub.execute_input": "2024-09-12T07:33:02.888996Z",
     "iopub.status.busy": "2024-09-12T07:33:02.888613Z",
     "iopub.status.idle": "2024-09-12T07:33:02.892949Z",
     "shell.execute_reply": "2024-09-12T07:33:02.892101Z"
    },
    "papermill": {
     "duration": 0.013513,
     "end_time": "2024-09-12T07:33:02.894837",
     "exception": false,
     "start_time": "2024-09-12T07:33:02.881324",
     "status": "completed"
    },
    "tags": []
   },
   "outputs": [],
   "source": [
    "# ! pip uninstall -r req_spacy.txt -y"
   ]
  },
  {
   "cell_type": "markdown",
   "id": "64ef9730",
   "metadata": {
    "papermill": {
     "duration": 0.005999,
     "end_time": "2024-09-12T07:33:02.906883",
     "exception": false,
     "start_time": "2024-09-12T07:33:02.900884",
     "status": "completed"
    },
    "tags": []
   },
   "source": [
    "## Download dataset"
   ]
  },
  {
   "cell_type": "code",
   "execution_count": 4,
   "id": "6d4f388e",
   "metadata": {
    "execution": {
     "iopub.execute_input": "2024-09-12T07:33:02.920079Z",
     "iopub.status.busy": "2024-09-12T07:33:02.919801Z",
     "iopub.status.idle": "2024-09-12T07:33:04.640488Z",
     "shell.execute_reply": "2024-09-12T07:33:04.639348Z"
    },
    "papermill": {
     "duration": 1.729952,
     "end_time": "2024-09-12T07:33:04.642834",
     "exception": false,
     "start_time": "2024-09-12T07:33:02.912882",
     "status": "completed"
    },
    "tags": []
   },
   "outputs": [
    {
     "name": "stdout",
     "output_type": "stream",
     "text": [
      "--2024-09-12 07:33:03--  https://raw.githubusercontent.com/VinAIResearch/PhoNER_COVID19/main/data/syllable/test_syllable.json\r\n",
      "Resolving raw.githubusercontent.com (raw.githubusercontent.com)... 185.199.108.133, 185.199.111.133, 185.199.109.133, ...\r\n",
      "Connecting to raw.githubusercontent.com (raw.githubusercontent.com)|185.199.108.133|:443... connected.\r\n",
      "HTTP request sent, awaiting response... 200 OK\r\n",
      "Length: 1806209 (1.7M) [text/plain]\r\n",
      "Saving to: 'test_syllable.json'\r\n",
      "\r\n",
      "test_syllable.json  100%[===================>]   1.72M  7.79MB/s    in 0.2s    \r\n",
      "\r\n",
      "2024-09-12 07:33:04 (7.79 MB/s) - 'test_syllable.json' saved [1806209/1806209]\r\n",
      "\r\n"
     ]
    }
   ],
   "source": [
    "! wget https://raw.githubusercontent.com/VinAIResearch/PhoNER_COVID19/main/data/syllable/test_syllable.json"
   ]
  },
  {
   "cell_type": "markdown",
   "id": "7292a057",
   "metadata": {
    "papermill": {
     "duration": 0.006312,
     "end_time": "2024-09-12T07:33:04.655988",
     "exception": false,
     "start_time": "2024-09-12T07:33:04.649676",
     "status": "completed"
    },
    "tags": []
   },
   "source": [
    "## Mine training data"
   ]
  },
  {
   "cell_type": "code",
   "execution_count": 5,
   "id": "9c67a6da",
   "metadata": {
    "execution": {
     "iopub.execute_input": "2024-09-12T07:33:04.670398Z",
     "iopub.status.busy": "2024-09-12T07:33:04.670042Z",
     "iopub.status.idle": "2024-09-12T07:33:04.740018Z",
     "shell.execute_reply": "2024-09-12T07:33:04.739177Z"
    },
    "papermill": {
     "duration": 0.079749,
     "end_time": "2024-09-12T07:33:04.742088",
     "exception": false,
     "start_time": "2024-09-12T07:33:04.662339",
     "status": "completed"
    },
    "tags": []
   },
   "outputs": [
    {
     "data": {
      "text/plain": [
       "(3000,\n",
       " {'words': ['Từ',\n",
       "   '24',\n",
       "   '-',\n",
       "   '7',\n",
       "   'đến',\n",
       "   '31',\n",
       "   '-',\n",
       "   '7',\n",
       "   ',',\n",
       "   'bệnh',\n",
       "   'nhân',\n",
       "   'được',\n",
       "   'mẹ',\n",
       "   'là',\n",
       "   'bà',\n",
       "   'H.T.P',\n",
       "   '(',\n",
       "   '47',\n",
       "   'tuổi',\n",
       "   ')',\n",
       "   'đón',\n",
       "   'về',\n",
       "   'nhà',\n",
       "   'ở',\n",
       "   'phường',\n",
       "   'Phước',\n",
       "   'Hoà',\n",
       "   '(',\n",
       "   'bằng',\n",
       "   'xe',\n",
       "   'máy',\n",
       "   ')',\n",
       "   ',',\n",
       "   'không',\n",
       "   'đi',\n",
       "   'đâu',\n",
       "   'chỉ',\n",
       "   'ra',\n",
       "   'Tạp',\n",
       "   'hoá',\n",
       "   'Phượng',\n",
       "   ',',\n",
       "   'chợ',\n",
       "   'Vườn',\n",
       "   'Lài',\n",
       "   ',',\n",
       "   'phường',\n",
       "   'An',\n",
       "   'Sơn',\n",
       "   'cùng',\n",
       "   'mẹ',\n",
       "   'bán',\n",
       "   'tạp',\n",
       "   'hoá',\n",
       "   'ở',\n",
       "   'đây',\n",
       "   '.'],\n",
       "  'tags': ['O',\n",
       "   'B-DATE',\n",
       "   'I-DATE',\n",
       "   'I-DATE',\n",
       "   'O',\n",
       "   'B-DATE',\n",
       "   'I-DATE',\n",
       "   'I-DATE',\n",
       "   'O',\n",
       "   'O',\n",
       "   'O',\n",
       "   'O',\n",
       "   'O',\n",
       "   'O',\n",
       "   'O',\n",
       "   'B-NAME',\n",
       "   'O',\n",
       "   'B-AGE',\n",
       "   'O',\n",
       "   'O',\n",
       "   'O',\n",
       "   'O',\n",
       "   'O',\n",
       "   'O',\n",
       "   'B-LOCATION',\n",
       "   'I-LOCATION',\n",
       "   'I-LOCATION',\n",
       "   'O',\n",
       "   'O',\n",
       "   'O',\n",
       "   'O',\n",
       "   'O',\n",
       "   'O',\n",
       "   'O',\n",
       "   'O',\n",
       "   'O',\n",
       "   'O',\n",
       "   'O',\n",
       "   'B-LOCATION',\n",
       "   'I-LOCATION',\n",
       "   'I-LOCATION',\n",
       "   'O',\n",
       "   'B-LOCATION',\n",
       "   'I-LOCATION',\n",
       "   'I-LOCATION',\n",
       "   'O',\n",
       "   'B-LOCATION',\n",
       "   'I-LOCATION',\n",
       "   'I-LOCATION',\n",
       "   'O',\n",
       "   'O',\n",
       "   'B-JOB',\n",
       "   'I-JOB',\n",
       "   'I-JOB',\n",
       "   'O',\n",
       "   'O',\n",
       "   'O']})"
      ]
     },
     "execution_count": 5,
     "metadata": {},
     "output_type": "execute_result"
    }
   ],
   "source": [
    "import json\n",
    "\n",
    "data = []\n",
    "with open(\"/kaggle/working/test_syllable.json\", \"r\") as f:\n",
    "    for line in f:\n",
    "        data.append(json.loads(line))\n",
    "\n",
    "len(data), data[0]"
   ]
  },
  {
   "cell_type": "code",
   "execution_count": 6,
   "id": "265ca09d",
   "metadata": {
    "execution": {
     "iopub.execute_input": "2024-09-12T07:33:04.756939Z",
     "iopub.status.busy": "2024-09-12T07:33:04.756604Z",
     "iopub.status.idle": "2024-09-12T07:33:04.878232Z",
     "shell.execute_reply": "2024-09-12T07:33:04.877308Z"
    },
    "papermill": {
     "duration": 0.131176,
     "end_time": "2024-09-12T07:33:04.880136",
     "exception": false,
     "start_time": "2024-09-12T07:33:04.748960",
     "status": "completed"
    },
    "tags": []
   },
   "outputs": [
    {
     "data": {
      "text/plain": [
       "{'text': 'Từ 24 - 7 đến 31 - 7 , bệnh nhân được mẹ là bà H.T.P ( 47 tuổi ) đón về nhà ở phường Phước Hoà ( bằng xe máy ) , không đi đâu chỉ ra Tạp hoá Phượng , chợ Vườn Lài , phường An Sơn cùng mẹ bán tạp hoá ở đây .',\n",
       " 'entities': [(3, 9, 'DATE'),\n",
       "  (14, 20, 'DATE'),\n",
       "  (47, 52, 'NAME'),\n",
       "  (55, 57, 'AGE'),\n",
       "  (78, 94, 'LOCATION'),\n",
       "  (133, 147, 'LOCATION'),\n",
       "  (150, 162, 'LOCATION'),\n",
       "  (165, 178, 'LOCATION'),\n",
       "  (187, 198, 'JOB')]}"
      ]
     },
     "execution_count": 6,
     "metadata": {},
     "output_type": "execute_result"
    }
   ],
   "source": [
    "training_data = []\n",
    "for example in data:\n",
    "    temp_dict = {}\n",
    "    temp_dict[\"text\"] = \" \".join(example[\"words\"])\n",
    "    temp_dict[\"entities\"] = []\n",
    "    \n",
    "    start = None\n",
    "    label = None\n",
    "    current_pos = 0  \n",
    "    \n",
    "    for i, (word, tag) in enumerate(zip(example[\"words\"], example[\"tags\"])):\n",
    "        word_len = len(word)\n",
    "        \n",
    "        if tag.startswith(\"B-\"):\n",
    "            if start is not None:\n",
    "                temp_dict[\"entities\"].append((start, current_pos - 1, label))\n",
    "                \n",
    "            start = current_pos\n",
    "            label = tag[2:]\n",
    "        elif tag.startswith(\"I-\"):\n",
    "            if start is not None and tag[2:] == label:\n",
    "                pass\n",
    "            else:\n",
    "                raise ValueError(\"Error in annotation.\")\n",
    "        else:\n",
    "            if start is not None:\n",
    "                temp_dict[\"entities\"].append((start, current_pos - 1, label))\n",
    "                start = None\n",
    "                label = None\n",
    "                \n",
    "        current_pos += word_len + 1\n",
    "        \n",
    "    # If the last entity hasn't been appended yet, append it\n",
    "    if start is not None:\n",
    "        temp_dict[\"entities\"].append((start, current_pos - 1, label))\n",
    "        \n",
    "    training_data.append(temp_dict)\n",
    "    \n",
    "training_data[0]"
   ]
  },
  {
   "cell_type": "markdown",
   "id": "f253668d",
   "metadata": {
    "papermill": {
     "duration": 0.007973,
     "end_time": "2024-09-12T07:33:04.896240",
     "exception": false,
     "start_time": "2024-09-12T07:33:04.888267",
     "status": "completed"
    },
    "tags": []
   },
   "source": [
    "## Process training data"
   ]
  },
  {
   "cell_type": "code",
   "execution_count": 7,
   "id": "ec2a8109",
   "metadata": {
    "execution": {
     "iopub.execute_input": "2024-09-12T07:33:04.912988Z",
     "iopub.status.busy": "2024-09-12T07:33:04.912671Z",
     "iopub.status.idle": "2024-09-12T07:33:11.358957Z",
     "shell.execute_reply": "2024-09-12T07:33:11.357987Z"
    },
    "papermill": {
     "duration": 6.457076,
     "end_time": "2024-09-12T07:33:11.361306",
     "exception": false,
     "start_time": "2024-09-12T07:33:04.904230",
     "status": "completed"
    },
    "tags": []
   },
   "outputs": [],
   "source": [
    "import spacy\n",
    "from spacy import displacy\n",
    "from spacy.tokens import DocBin\n",
    "from spacy.util import filter_spans\n",
    "from tqdm import tqdm"
   ]
  },
  {
   "cell_type": "code",
   "execution_count": 8,
   "id": "fac8ffbc",
   "metadata": {
    "execution": {
     "iopub.execute_input": "2024-09-12T07:33:11.377351Z",
     "iopub.status.busy": "2024-09-12T07:33:11.376910Z",
     "iopub.status.idle": "2024-09-12T07:33:13.861353Z",
     "shell.execute_reply": "2024-09-12T07:33:13.860380Z"
    },
    "papermill": {
     "duration": 2.494999,
     "end_time": "2024-09-12T07:33:13.863874",
     "exception": false,
     "start_time": "2024-09-12T07:33:11.368875",
     "status": "completed"
    },
    "tags": []
   },
   "outputs": [
    {
     "name": "stderr",
     "output_type": "stream",
     "text": [
      "/opt/conda/lib/python3.10/site-packages/transformers/utils/generic.py:441: FutureWarning: `torch.utils._pytree._register_pytree_node` is deprecated. Please use `torch.utils._pytree.register_pytree_node` instead.\n",
      "  _torch_pytree._register_pytree_node(\n",
      "/opt/conda/lib/python3.10/site-packages/transformers/utils/generic.py:309: FutureWarning: `torch.utils._pytree._register_pytree_node` is deprecated. Please use `torch.utils._pytree.register_pytree_node` instead.\n",
      "  _torch_pytree._register_pytree_node(\n"
     ]
    }
   ],
   "source": [
    "nlp = spacy.blank(\"vi\")\n",
    "doc_bin = DocBin()"
   ]
  },
  {
   "cell_type": "code",
   "execution_count": 9,
   "id": "e63a4058",
   "metadata": {
    "execution": {
     "iopub.execute_input": "2024-09-12T07:33:13.879930Z",
     "iopub.status.busy": "2024-09-12T07:33:13.879418Z",
     "iopub.status.idle": "2024-09-12T07:33:19.737990Z",
     "shell.execute_reply": "2024-09-12T07:33:19.734809Z"
    },
    "papermill": {
     "duration": 5.868702,
     "end_time": "2024-09-12T07:33:19.739860",
     "exception": false,
     "start_time": "2024-09-12T07:33:13.871158",
     "status": "completed"
    },
    "tags": []
   },
   "outputs": [
    {
     "name": "stderr",
     "output_type": "stream",
     "text": [
      "  3%|▎         | 97/3000 [00:00<00:08, 337.99it/s]"
     ]
    },
    {
     "name": "stdout",
     "output_type": "stream",
     "text": [
      "Empty entry. Skip.\n",
      "Empty entry. Skip.\n"
     ]
    },
    {
     "name": "stderr",
     "output_type": "stream",
     "text": [
      " 10%|█         | 310/3000 [00:00<00:06, 391.61it/s]"
     ]
    },
    {
     "name": "stdout",
     "output_type": "stream",
     "text": [
      "Empty entry. Skip.\n"
     ]
    },
    {
     "name": "stderr",
     "output_type": "stream",
     "text": [
      " 15%|█▍        | 442/3000 [00:01<00:06, 422.23it/s]"
     ]
    },
    {
     "name": "stdout",
     "output_type": "stream",
     "text": [
      "Empty entry. Skip.\n"
     ]
    },
    {
     "name": "stderr",
     "output_type": "stream",
     "text": [
      " 22%|██▏       | 673/3000 [00:01<00:05, 428.85it/s]"
     ]
    },
    {
     "name": "stdout",
     "output_type": "stream",
     "text": [
      "Empty entry. Skip.\n"
     ]
    },
    {
     "name": "stderr",
     "output_type": "stream",
     "text": [
      " 33%|███▎      | 995/3000 [00:02<00:04, 432.50it/s]"
     ]
    },
    {
     "name": "stdout",
     "output_type": "stream",
     "text": [
      "Empty entry. Skip.\n"
     ]
    },
    {
     "name": "stderr",
     "output_type": "stream",
     "text": [
      " 38%|███▊      | 1138/3000 [00:02<00:04, 451.56it/s]"
     ]
    },
    {
     "name": "stdout",
     "output_type": "stream",
     "text": [
      "Empty entry. Skip.\n",
      "Empty entry. Skip.\n"
     ]
    },
    {
     "name": "stderr",
     "output_type": "stream",
     "text": [
      " 46%|████▌     | 1370/3000 [00:03<00:02, 545.16it/s]"
     ]
    },
    {
     "name": "stdout",
     "output_type": "stream",
     "text": [
      "Empty entry. Skip.\n",
      "Empty entry. Skip.\n"
     ]
    },
    {
     "name": "stderr",
     "output_type": "stream",
     "text": [
      " 58%|█████▊    | 1729/3000 [00:03<00:02, 535.93it/s]"
     ]
    },
    {
     "name": "stdout",
     "output_type": "stream",
     "text": [
      "Empty entry. Skip.\n",
      "Empty entry. Skip.\n",
      "Empty entry. Skip.\n"
     ]
    },
    {
     "name": "stderr",
     "output_type": "stream",
     "text": [
      " 69%|██████▉   | 2068/3000 [00:04<00:01, 604.17it/s]"
     ]
    },
    {
     "name": "stdout",
     "output_type": "stream",
     "text": [
      "Empty entry. Skip.\n",
      "Empty entry. Skip.\n"
     ]
    },
    {
     "name": "stderr",
     "output_type": "stream",
     "text": [
      " 79%|███████▉  | 2378/3000 [00:04<00:01, 609.13it/s]"
     ]
    },
    {
     "name": "stdout",
     "output_type": "stream",
     "text": [
      "Empty entry. Skip.\n"
     ]
    },
    {
     "name": "stderr",
     "output_type": "stream",
     "text": [
      " 88%|████████▊ | 2636/3000 [00:05<00:00, 608.88it/s]"
     ]
    },
    {
     "name": "stdout",
     "output_type": "stream",
     "text": [
      "Empty entry. Skip.\n",
      "Empty entry. Skip.\n",
      "Empty entry. Skip.\n"
     ]
    },
    {
     "name": "stderr",
     "output_type": "stream",
     "text": [
      "100%|██████████| 3000/3000 [00:05<00:00, 513.23it/s]"
     ]
    },
    {
     "name": "stdout",
     "output_type": "stream",
     "text": [
      "Empty entry. Skip.\n",
      "Empty entry. Skip.\n"
     ]
    },
    {
     "name": "stderr",
     "output_type": "stream",
     "text": [
      "\n"
     ]
    }
   ],
   "source": [
    "for example in tqdm(training_data):\n",
    "    text = example[\"text\"]\n",
    "    labels = example[\"entities\"]\n",
    "    doc = nlp.make_doc(text)\n",
    "    ents = []\n",
    "    \n",
    "    for start, end, label in labels:\n",
    "        span = doc.char_span(start, end, label=label, alignment_mode=\"contract\")\n",
    "        if not span:\n",
    "            print(\"Empty entry. Skip.\")\n",
    "        else:\n",
    "            ents.append(span)\n",
    "        \n",
    "        filtered_ents = filter_spans(ents)\n",
    "        doc.ents = filtered_ents\n",
    "        doc_bin.add(doc)\n",
    "        \n",
    "    "
   ]
  },
  {
   "cell_type": "code",
   "execution_count": 10,
   "id": "1896b1b6",
   "metadata": {
    "execution": {
     "iopub.execute_input": "2024-09-12T07:33:19.766522Z",
     "iopub.status.busy": "2024-09-12T07:33:19.765949Z",
     "iopub.status.idle": "2024-09-12T07:33:20.379252Z",
     "shell.execute_reply": "2024-09-12T07:33:20.378396Z"
    },
    "papermill": {
     "duration": 0.628754,
     "end_time": "2024-09-12T07:33:20.381478",
     "exception": false,
     "start_time": "2024-09-12T07:33:19.752724",
     "status": "completed"
    },
    "tags": []
   },
   "outputs": [],
   "source": [
    "doc_bin.to_disk(\"/kaggle/working/train.spacy\")"
   ]
  },
  {
   "cell_type": "markdown",
   "id": "ffe875bf",
   "metadata": {
    "papermill": {
     "duration": 0.01224,
     "end_time": "2024-09-12T07:33:20.406703",
     "exception": false,
     "start_time": "2024-09-12T07:33:20.394463",
     "status": "completed"
    },
    "tags": []
   },
   "source": [
    "## Train data using command line"
   ]
  },
  {
   "cell_type": "markdown",
   "id": "8f6e243e",
   "metadata": {
    "papermill": {
     "duration": 0.011982,
     "end_time": "2024-09-12T07:33:20.430896",
     "exception": false,
     "start_time": "2024-09-12T07:33:20.418914",
     "status": "completed"
    },
    "tags": []
   },
   "source": [
    "Follow official docs at [spacy.io](https://spacy.io/usage/training#quickstart)"
   ]
  },
  {
   "cell_type": "markdown",
   "id": "d716d32b",
   "metadata": {
    "papermill": {
     "duration": 0.012041,
     "end_time": "2024-09-12T07:33:20.455344",
     "exception": false,
     "start_time": "2024-09-12T07:33:20.443303",
     "status": "completed"
    },
    "tags": []
   },
   "source": [
    "Download and modify config file locally. Then upload it into kaggle datasets "
   ]
  },
  {
   "cell_type": "code",
   "execution_count": 11,
   "id": "d3c9c49f",
   "metadata": {
    "execution": {
     "iopub.execute_input": "2024-09-12T07:33:20.481353Z",
     "iopub.status.busy": "2024-09-12T07:33:20.481021Z",
     "iopub.status.idle": "2024-09-12T07:33:27.729034Z",
     "shell.execute_reply": "2024-09-12T07:33:27.727986Z"
    },
    "papermill": {
     "duration": 7.263921,
     "end_time": "2024-09-12T07:33:27.731462",
     "exception": false,
     "start_time": "2024-09-12T07:33:20.467541",
     "status": "completed"
    },
    "tags": []
   },
   "outputs": [
    {
     "name": "stderr",
     "output_type": "stream",
     "text": [
      "/opt/conda/lib/python3.10/pty.py:89: RuntimeWarning: os.fork() was called. os.fork() is incompatible with multithreaded code, and JAX is multithreaded, so this will likely lead to a deadlock.\n",
      "  pid, fd = os.forkpty()\n"
     ]
    },
    {
     "name": "stdout",
     "output_type": "stream",
     "text": [
      "/opt/conda/lib/python3.10/site-packages/transformers/utils/generic.py:441: FutureWarning: `torch.utils._pytree._register_pytree_node` is deprecated. Please use `torch.utils._pytree.register_pytree_node` instead.\r\n",
      "  _torch_pytree._register_pytree_node(\r\n",
      "/opt/conda/lib/python3.10/site-packages/transformers/utils/generic.py:309: FutureWarning: `torch.utils._pytree._register_pytree_node` is deprecated. Please use `torch.utils._pytree.register_pytree_node` instead.\r\n",
      "  _torch_pytree._register_pytree_node(\r\n",
      "\u001b[38;5;2m✔ Auto-filled config with all values\u001b[0m\r\n",
      "\u001b[38;5;2m✔ Saved config\u001b[0m\r\n",
      "config.cfg\r\n",
      "You can now add your data and train your pipeline:\r\n",
      "python -m spacy train config.cfg --paths.train ./train.spacy --paths.dev ./dev.spacy\r\n"
     ]
    }
   ],
   "source": [
    "!python -m spacy init fill-config /kaggle/input/spacy-config/ner_config.cfg config.cfg"
   ]
  },
  {
   "cell_type": "markdown",
   "id": "6bcd5fec",
   "metadata": {
    "papermill": {
     "duration": 0.012346,
     "end_time": "2024-09-12T07:33:27.756568",
     "exception": false,
     "start_time": "2024-09-12T07:33:27.744222",
     "status": "completed"
    },
    "tags": []
   },
   "source": [
    "Command to train the model. Here we use dev as train also for learning purpose only."
   ]
  },
  {
   "cell_type": "code",
   "execution_count": 12,
   "id": "c2b42fc8",
   "metadata": {
    "execution": {
     "iopub.execute_input": "2024-09-12T07:33:27.782702Z",
     "iopub.status.busy": "2024-09-12T07:33:27.782313Z",
     "iopub.status.idle": "2024-09-12T07:37:58.254183Z",
     "shell.execute_reply": "2024-09-12T07:37:58.252809Z"
    },
    "papermill": {
     "duration": 270.488145,
     "end_time": "2024-09-12T07:37:58.256988",
     "exception": false,
     "start_time": "2024-09-12T07:33:27.768843",
     "status": "completed"
    },
    "tags": []
   },
   "outputs": [
    {
     "name": "stdout",
     "output_type": "stream",
     "text": [
      "\u001b[38;5;4mℹ Saving to output directory: result\u001b[0m\r\n",
      "\u001b[38;5;4mℹ Using GPU: 0\u001b[0m\r\n",
      "\u001b[1m\r\n",
      "=========================== Initializing pipeline ===========================\u001b[0m\r\n",
      "/opt/conda/lib/python3.10/site-packages/transformers/utils/generic.py:441: FutureWarning: `torch.utils._pytree._register_pytree_node` is deprecated. Please use `torch.utils._pytree.register_pytree_node` instead.\r\n",
      "  _torch_pytree._register_pytree_node(\r\n",
      "/opt/conda/lib/python3.10/site-packages/transformers/utils/generic.py:309: FutureWarning: `torch.utils._pytree._register_pytree_node` is deprecated. Please use `torch.utils._pytree.register_pytree_node` instead.\r\n",
      "  _torch_pytree._register_pytree_node(\r\n",
      "[2024-09-12 07:33:34,916] [INFO] Set up nlp object from config\r\n",
      "[2024-09-12 07:33:34,956] [INFO] Pipeline: ['transformer', 'ner']\r\n",
      "[2024-09-12 07:33:34,962] [INFO] Created vocabulary\r\n",
      "[2024-09-12 07:33:34,962] [INFO] Finished initializing nlp object\r\n",
      "/opt/conda/lib/python3.10/site-packages/huggingface_hub/file_download.py:1150: FutureWarning: `resume_download` is deprecated and will be removed in version 1.0.0. Downloads always resume when possible. If you want to force a new download, use `force_download=True`.\r\n",
      "  warnings.warn(\r\n",
      "tokenizer_config.json: 100%|██████████████████| 48.0/48.0 [00:00<00:00, 331kB/s]\r\n",
      "config.json: 100%|█████████████████████████████| 625/625 [00:00<00:00, 4.83MB/s]\r\n",
      "vocab.txt: 100%|█████████████████████████████| 872k/872k [00:00<00:00, 4.20MB/s]\r\n",
      "tokenizer.json: 100%|██████████████████████| 1.72M/1.72M [00:00<00:00, 8.39MB/s]\r\n",
      "/opt/conda/lib/python3.10/site-packages/transformers/utils/generic.py:309: FutureWarning: `torch.utils._pytree._register_pytree_node` is deprecated. Please use `torch.utils._pytree.register_pytree_node` instead.\r\n",
      "  _torch_pytree._register_pytree_node(\r\n",
      "/opt/conda/lib/python3.10/site-packages/huggingface_hub/file_download.py:1150: FutureWarning: `resume_download` is deprecated and will be removed in version 1.0.0. Downloads always resume when possible. If you want to force a new download, use `force_download=True`.\r\n",
      "  warnings.warn(\r\n",
      "model.safetensors: 100%|█████████████████████| 672M/672M [00:09<00:00, 68.6MB/s]\r\n",
      "/opt/conda/lib/python3.10/site-packages/thinc/shims/pytorch.py:114: FutureWarning: `torch.cuda.amp.autocast(args...)` is deprecated. Please use `torch.amp.autocast('cuda', args...)` instead.\r\n",
      "  with torch.cuda.amp.autocast(self._mixed_precision):\r\n",
      "/opt/conda/lib/python3.10/site-packages/cupy/cuda/compiler.py:233: PerformanceWarning: Jitify is performing a one-time only warm-up to populate the persistent cache, this may take a few seconds and will be improved in a future release...\r\n",
      "  jitify._init_module()\r\n",
      "[2024-09-12 07:35:07,662] [INFO] Initialized pipeline components: ['transformer', 'ner']\r\n",
      "\u001b[38;5;2m✔ Initialized pipeline\u001b[0m\r\n",
      "\u001b[1m\r\n",
      "============================= Training pipeline =============================\u001b[0m\r\n",
      "\u001b[38;5;4mℹ Pipeline: ['transformer', 'ner']\u001b[0m\r\n",
      "\u001b[38;5;4mℹ Initial learn rate: 0.0\u001b[0m\r\n",
      "E    #       LOSS TRANS...  LOSS NER  ENTS_F  ENTS_P  ENTS_R  SCORE \r\n",
      "---  ------  -------------  --------  ------  ------  ------  ------\r\n",
      "/opt/conda/lib/python3.10/site-packages/thinc/shims/pytorch.py:128: FutureWarning: `torch.cuda.amp.autocast(args...)` is deprecated. Please use `torch.amp.autocast('cuda', args...)` instead.\r\n",
      "  with torch.cuda.amp.autocast(self._mixed_precision):\r\n",
      "  0       0        1544.87    943.39    0.19    0.12    0.45    0.00\r\n",
      "\u001b[38;5;2m✔ Saved pipeline to output directory\u001b[0m\r\n",
      "result/model-last\r\n"
     ]
    }
   ],
   "source": [
    "!mkdir ./result\n",
    "!python -m spacy train ./config.cfg --output ./result --paths.train ./train.spacy --paths.dev ./train.spacy --gpu-id 0"
   ]
  },
  {
   "cell_type": "code",
   "execution_count": 13,
   "id": "5fb35c5d",
   "metadata": {
    "execution": {
     "iopub.execute_input": "2024-09-12T07:37:58.297987Z",
     "iopub.status.busy": "2024-09-12T07:37:58.297596Z",
     "iopub.status.idle": "2024-09-12T07:38:04.365553Z",
     "shell.execute_reply": "2024-09-12T07:38:04.364505Z"
    },
    "papermill": {
     "duration": 6.091296,
     "end_time": "2024-09-12T07:38:04.368219",
     "exception": false,
     "start_time": "2024-09-12T07:37:58.276923",
     "status": "completed"
    },
    "tags": []
   },
   "outputs": [
    {
     "name": "stderr",
     "output_type": "stream",
     "text": [
      "/opt/conda/lib/python3.10/site-packages/transformers/utils/generic.py:309: FutureWarning: `torch.utils._pytree._register_pytree_node` is deprecated. Please use `torch.utils._pytree.register_pytree_node` instead.\n",
      "  _torch_pytree._register_pytree_node(\n",
      "/opt/conda/lib/python3.10/site-packages/spacy_transformers/layers/hf_shim.py:124: FutureWarning: You are using `torch.load` with `weights_only=False` (the current default value), which uses the default pickle module implicitly. It is possible to construct malicious pickle data which will execute arbitrary code during unpickling (See https://github.com/pytorch/pytorch/blob/main/SECURITY.md#untrusted-models for more details). In a future release, the default value for `weights_only` will be flipped to `True`. This limits the functions that could be executed during unpickling. Arbitrary objects will no longer be allowed to be loaded via this mode unless they are explicitly allowlisted by the user via `torch.serialization.add_safe_globals`. We recommend you start setting `weights_only=True` for any use case where you don't have full control of the loaded file. Please open an issue on GitHub for any issues related to this experimental feature.\n",
      "  self._model.load_state_dict(torch.load(filelike, map_location=device))\n"
     ]
    }
   ],
   "source": [
    "nlp_ner = spacy.load(\"./result/model-best\")"
   ]
  },
  {
   "cell_type": "code",
   "execution_count": 14,
   "id": "300bdedd",
   "metadata": {
    "execution": {
     "iopub.execute_input": "2024-09-12T07:38:04.412220Z",
     "iopub.status.busy": "2024-09-12T07:38:04.411583Z",
     "iopub.status.idle": "2024-09-12T07:38:04.881331Z",
     "shell.execute_reply": "2024-09-12T07:38:04.880457Z"
    },
    "papermill": {
     "duration": 0.493117,
     "end_time": "2024-09-12T07:38:04.883738",
     "exception": false,
     "start_time": "2024-09-12T07:38:04.390621",
     "status": "completed"
    },
    "tags": []
   },
   "outputs": [
    {
     "name": "stderr",
     "output_type": "stream",
     "text": [
      "/opt/conda/lib/python3.10/site-packages/thinc/shims/pytorch.py:114: FutureWarning: `torch.cuda.amp.autocast(args...)` is deprecated. Please use `torch.amp.autocast('cuda', args...)` instead.\n",
      "  with torch.cuda.amp.autocast(self._mixed_precision):\n"
     ]
    }
   ],
   "source": [
    "from random import choice\n",
    "\n",
    "text = choice([data[\"text\"] for data in training_data])\n",
    "doc = nlp_ner(text)"
   ]
  },
  {
   "cell_type": "code",
   "execution_count": 15,
   "id": "08b0a545",
   "metadata": {
    "execution": {
     "iopub.execute_input": "2024-09-12T07:38:04.924410Z",
     "iopub.status.busy": "2024-09-12T07:38:04.923861Z",
     "iopub.status.idle": "2024-09-12T07:38:04.932587Z",
     "shell.execute_reply": "2024-09-12T07:38:04.931691Z"
    },
    "papermill": {
     "duration": 0.031157,
     "end_time": "2024-09-12T07:38:04.934574",
     "exception": false,
     "start_time": "2024-09-12T07:38:04.903417",
     "status": "completed"
    },
    "tags": []
   },
   "outputs": [
    {
     "data": {
      "text/plain": [
       "{'PATIENT_ID': '#ff0000',\n",
       " 'PERSON_NAME': '#00ff00',\n",
       " 'AGE': '#0000ff',\n",
       " 'GENDER': '#ffff00',\n",
       " 'OCCUPATION': '#ff00ff',\n",
       " 'LOCATION': '#00ffff',\n",
       " 'ORGANIZATION': '#c0c0c0',\n",
       " 'SYMPTOM&DISEASE': '#800000',\n",
       " 'TRANSPORTATION': '#808000',\n",
       " 'DATE': '#008080'}"
      ]
     },
     "execution_count": 15,
     "metadata": {},
     "output_type": "execute_result"
    }
   ],
   "source": [
    "colors = [\n",
    "    '#ff0000',  # Red\n",
    "    '#00ff00',  # Green\n",
    "    '#0000ff',  # Blue\n",
    "    '#ffff00',  # Yellow\n",
    "    '#ff00ff',  # Magenta\n",
    "    '#00ffff',  # Cyan\n",
    "    '#c0c0c0',  # Silver\n",
    "    '#800000',  # Maroon\n",
    "    '#808000',  # Olive\n",
    "    '#008080'   # Teal\n",
    "]\n",
    "ents = [\n",
    "    \"PATIENT_ID\", \n",
    "    \"PERSON_NAME\", \n",
    "    \"AGE\", \n",
    "    \"GENDER\", \n",
    "    \"OCCUPATION\", \n",
    "    \"LOCATION\", \n",
    "    \"ORGANIZATION\", \n",
    "    \"SYMPTOM&DISEASE\", \n",
    "    \"TRANSPORTATION\", \n",
    "    \"DATE\"\n",
    "]\n",
    "colors = {key: value for key, value in zip(ents, colors)}\n",
    "colors"
   ]
  },
  {
   "cell_type": "code",
   "execution_count": 16,
   "id": "6a111eb7",
   "metadata": {
    "execution": {
     "iopub.execute_input": "2024-09-12T07:38:04.975462Z",
     "iopub.status.busy": "2024-09-12T07:38:04.975164Z",
     "iopub.status.idle": "2024-09-12T07:38:04.983698Z",
     "shell.execute_reply": "2024-09-12T07:38:04.982783Z"
    },
    "papermill": {
     "duration": 0.031186,
     "end_time": "2024-09-12T07:38:04.985715",
     "exception": false,
     "start_time": "2024-09-12T07:38:04.954529",
     "status": "completed"
    },
    "tags": []
   },
   "outputs": [
    {
     "data": {
      "text/html": [
       "<span class=\"tex2jax_ignore\"><div class=\"entities\" style=\"line-height: 2.5; direction: ltr\">\n",
       "<mark class=\"entity\" style=\"background: #ff0000; padding: 0.45em 0.6em; margin: 0 0.25em; line-height: 1; border-radius: 0.35em;\">\n",
       "    &quot; Bệnh nhân 716\n",
       "    <span style=\"font-size: 0.8em; font-weight: bold; line-height: 1; border-radius: 0.35em; vertical-align: middle; margin-left: 0.5rem\">PATIENT_ID</span>\n",
       "</mark>\n",
       " \n",
       "<mark class=\"entity\" style=\"background: #ff0000; padding: 0.45em 0.6em; margin: 0 0.25em; line-height: 1; border-radius: 0.35em;\">\n",
       "    &quot; , nữ\n",
       "    <span style=\"font-size: 0.8em; font-weight: bold; line-height: 1; border-radius: 0.35em; vertical-align: middle; margin-left: 0.5rem\">PATIENT_ID</span>\n",
       "</mark>\n",
       " \n",
       "<mark class=\"entity\" style=\"background: #ff0000; padding: 0.45em 0.6em; margin: 0 0.25em; line-height: 1; border-radius: 0.35em;\">\n",
       "    , 42\n",
       "    <span style=\"font-size: 0.8em; font-weight: bold; line-height: 1; border-radius: 0.35em; vertical-align: middle; margin-left: 0.5rem\">PATIENT_ID</span>\n",
       "</mark>\n",
       " \n",
       "<mark class=\"entity\" style=\"background: #ff0000; padding: 0.45em 0.6em; margin: 0 0.25em; line-height: 1; border-radius: 0.35em;\">\n",
       "    tuổi ,\n",
       "    <span style=\"font-size: 0.8em; font-weight: bold; line-height: 1; border-radius: 0.35em; vertical-align: middle; margin-left: 0.5rem\">PATIENT_ID</span>\n",
       "</mark>\n",
       " \n",
       "<mark class=\"entity\" style=\"background: #ff0000; padding: 0.45em 0.6em; margin: 0 0.25em; line-height: 1; border-radius: 0.35em;\">\n",
       "    thị trấn Nam Phước , huyện\n",
       "    <span style=\"font-size: 0.8em; font-weight: bold; line-height: 1; border-radius: 0.35em; vertical-align: middle; margin-left: 0.5rem\">PATIENT_ID</span>\n",
       "</mark>\n",
       " \n",
       "<mark class=\"entity\" style=\"background: #00ffff; padding: 0.45em 0.6em; margin: 0 0.25em; line-height: 1; border-radius: 0.35em;\">\n",
       "    Duy Xuyên\n",
       "    <span style=\"font-size: 0.8em; font-weight: bold; line-height: 1; border-radius: 0.35em; vertical-align: middle; margin-left: 0.5rem\">LOCATION</span>\n",
       "</mark>\n",
       " \n",
       "<mark class=\"entity\" style=\"background: #ff0000; padding: 0.45em 0.6em; margin: 0 0.25em; line-height: 1; border-radius: 0.35em;\">\n",
       "    , làm\n",
       "    <span style=\"font-size: 0.8em; font-weight: bold; line-height: 1; border-radius: 0.35em; vertical-align: middle; margin-left: 0.5rem\">PATIENT_ID</span>\n",
       "</mark>\n",
       " \n",
       "<mark class=\"entity\" style=\"background: #00ffff; padding: 0.45em 0.6em; margin: 0 0.25em; line-height: 1; border-radius: 0.35em;\">\n",
       "    nghề\n",
       "    <span style=\"font-size: 0.8em; font-weight: bold; line-height: 1; border-radius: 0.35em; vertical-align: middle; margin-left: 0.5rem\">LOCATION</span>\n",
       "</mark>\n",
       " \n",
       "<mark class=\"entity\" style=\"background: #ff0000; padding: 0.45em 0.6em; margin: 0 0.25em; line-height: 1; border-radius: 0.35em;\">\n",
       "    buôn bán thuốc\n",
       "    <span style=\"font-size: 0.8em; font-weight: bold; line-height: 1; border-radius: 0.35em; vertical-align: middle; margin-left: 0.5rem\">PATIENT_ID</span>\n",
       "</mark>\n",
       " \n",
       "<mark class=\"entity\" style=\"background: #ff0000; padding: 0.45em 0.6em; margin: 0 0.25em; line-height: 1; border-radius: 0.35em;\">\n",
       "    thú y .\n",
       "    <span style=\"font-size: 0.8em; font-weight: bold; line-height: 1; border-radius: 0.35em; vertical-align: middle; margin-left: 0.5rem\">PATIENT_ID</span>\n",
       "</mark>\n",
       "</div></span>"
      ],
      "text/plain": [
       "<IPython.core.display.HTML object>"
      ]
     },
     "metadata": {},
     "output_type": "display_data"
    }
   ],
   "source": [
    "spacy.displacy.render(doc, style=\"ent\", options={\"colors\": colors}, jupyter=True)"
   ]
  },
  {
   "cell_type": "code",
   "execution_count": null,
   "id": "92766c49",
   "metadata": {
    "papermill": {
     "duration": 0.019601,
     "end_time": "2024-09-12T07:38:05.025033",
     "exception": false,
     "start_time": "2024-09-12T07:38:05.005432",
     "status": "completed"
    },
    "tags": []
   },
   "outputs": [],
   "source": []
  }
 ],
 "metadata": {
  "kaggle": {
   "accelerator": "gpu",
   "dataSources": [
    {
     "datasetId": 5684099,
     "sourceId": 9371951,
     "sourceType": "datasetVersion"
    }
   ],
   "dockerImageVersionId": 30762,
   "isGpuEnabled": true,
   "isInternetEnabled": true,
   "language": "python",
   "sourceType": "notebook"
  },
  "kernelspec": {
   "display_name": "Python 3",
   "language": "python",
   "name": "python3"
  },
  "language_info": {
   "codemirror_mode": {
    "name": "ipython",
    "version": 3
   },
   "file_extension": ".py",
   "mimetype": "text/x-python",
   "name": "python",
   "nbconvert_exporter": "python",
   "pygments_lexer": "ipython3",
   "version": "3.10.14"
  },
  "papermill": {
   "default_parameters": {},
   "duration": 337.411878,
   "end_time": "2024-09-12T07:38:06.567197",
   "environment_variables": {},
   "exception": null,
   "input_path": "__notebook__.ipynb",
   "output_path": "__notebook__.ipynb",
   "parameters": {},
   "start_time": "2024-09-12T07:32:29.155319",
   "version": "2.6.0"
  }
 },
 "nbformat": 4,
 "nbformat_minor": 5
}
